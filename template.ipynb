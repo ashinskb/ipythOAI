{
 "cells": [
  {
   "cell_type": "code",
   "execution_count": 2,
   "metadata": {
    "collapsed": false
   },
   "outputs": [
    {
     "data": {
      "image/png": "[encoded data removed]",
      "text/plain": [
       "<matplotlib.figure.Figure at 0x10b0850d0>"
      ]
     },
     "metadata": {},
     "output_type": "display_data"
    }
   ],
   "source": [
    "%matplotlib inline\n",
    "import matplotlib.pyplot as plt\n",
    "import numpy as np\n",
    "x = np.linspace(0, 3*np.pi, 500)\n",
    "plt.plot(x, np.sin(x**2))\n",
    "plt.title('A simple chirp');\n"
   ]
  },
  {
   "cell_type": "code",
   "execution_count": 3,
   "metadata": {
    "collapsed": false
   },
   "outputs": [],
   "source": [
    "# not necessary if running python setup.py install\n",
    "#import sys,os.path\n",
    "#sys.path.append(os.path.expanduser('~/wndchrm/wnd-charm-master/build/lib.macosx-10.10-x86_64-2.7/wndcharm'))\n",
    "from wndcharm import *"
   ]
  },
  {
   "cell_type": "code",
   "execution_count": 4,
   "metadata": {
    "collapsed": false
   },
   "outputs": [
    {
     "name": "stdout",
     "output_type": "stream",
     "text": [
      "LOADED  <FeatureVector \"T2_map_Resliced_Slice7-l.sig\" label=\"0\" n_features=2919 grp=0 seq=0 fs_col=0>\n",
      "LOADED  <FeatureVector \"T2_map_Resliced_Slice5-l.sig\" label=\"0\" n_features=2919 grp=0 seq=0 fs_col=1>\n",
      "LOADED  <FeatureVector \"T2_map_Resliced_Slice7-l.sig\" label=\"0\" n_features=2919 grp=1 seq=0 fs_col=0>\n",
      "LOADED  <FeatureVector \"T2_map_Resliced_Slice5-l.sig\" label=\"0\" n_features=2919 grp=1 seq=0 fs_col=1>\n",
      "LOADED  <FeatureVector \"T2_map_Resliced_Slice7-l.sig\" label=\"0\" n_features=2919 grp=2 seq=0 fs_col=0>\n",
      "LOADED  <FeatureVector \"T2_map_Resliced_Slice5-l.sig\" label=\"0\" n_features=2919 grp=2 seq=0 fs_col=1>\n",
      "LOADED  <FeatureVector \"T2_map_Resliced_Slice7-l.sig\" label=\"0\" n_features=2919 grp=3 seq=0 fs_col=0>\n",
      "LOADED  <FeatureVector \"T2_map_Resliced_Slice5-l.sig\" label=\"0\" n_features=2919 grp=3 seq=0 fs_col=1>\n",
      "LOADED  <FeatureVector \"T2_map_Resliced_Slice7-l.sig\" label=\"0\" n_features=2919 grp=4 seq=0 fs_col=0>\n",
      "LOADED  <FeatureVector \"T2_map_Resliced_Slice5-l.sig\" label=\"0\" n_features=2919 grp=4 seq=0 fs_col=1>\n",
      "LOADED  <FeatureVector \"T2_map_Resliced_Slice7-l.sig\" label=\"0\" n_features=2919 grp=5 seq=0 fs_col=0>\n",
      "LOADED  <FeatureVector \"T2_map_Resliced_Slice5-l.sig\" label=\"0\" n_features=2919 grp=5 seq=0 fs_col=1>\n",
      "LOADED  <FeatureVector \"T2_map_Resliced_Slice7-l.sig\" label=\"0\" n_features=2919 grp=6 seq=0 fs_col=0>\n",
      "LOADED  <FeatureVector \"T2_map_Resliced_Slice5-l.sig\" label=\"0\" n_features=2919 grp=6 seq=0 fs_col=1>\n",
      "LOADED  <FeatureVector \"T2_map_Resliced_Slice7-l.sig\" label=\"0\" n_features=2919 grp=7 seq=0 fs_col=0>\n",
      "LOADED  <FeatureVector \"T2_map_Resliced_Slice5-l.sig\" label=\"0\" n_features=2919 grp=7 seq=0 fs_col=1>\n",
      "LOADED  <FeatureVector \"T2_map_Resliced_Slice7-l.sig\" label=\"0\" n_features=2919 grp=8 seq=0 fs_col=0>\n",
      "LOADED  <FeatureVector \"T2_map_Resliced_Slice5-l.sig\" label=\"0\" n_features=2919 grp=8 seq=0 fs_col=1>\n",
      "LOADED  <FeatureVector \"T2_map_Resliced_Slice7-l.sig\" label=\"0\" n_features=2919 grp=9 seq=0 fs_col=0>\n",
      "LOADED  <FeatureVector \"T2_map_Resliced_Slice5-l.sig\" label=\"0\" n_features=2919 grp=9 seq=0 fs_col=1>\n",
      "LOADED  <FeatureVector \"T2_map_Resliced_Slice7-l.sig\" label=\"0\" n_features=2919 grp=10 seq=0 fs_col=0>\n",
      "LOADED  <FeatureVector \"T2_map_Resliced_Slice5-l.sig\" label=\"0\" n_features=2919 grp=10 seq=0 fs_col=1>\n",
      "LOADED  <FeatureVector \"T2_map_Resliced_Slice7-l.sig\" label=\"0\" n_features=2919 grp=11 seq=0 fs_col=0>\n",
      "LOADED  <FeatureVector \"T2_map_Resliced_Slice5-l.sig\" label=\"0\" n_features=2919 grp=11 seq=0 fs_col=1>\n",
      "LOADED  <FeatureVector \"T2_map_Resliced_Slice7-l.sig\" label=\"0\" n_features=2919 grp=12 seq=0 fs_col=0>\n",
      "LOADED  <FeatureVector \"T2_map_Resliced_Slice5-l.sig\" label=\"0\" n_features=2919 grp=12 seq=0 fs_col=1>\n",
      "LOADED  <FeatureVector \"T2_map_Resliced_Slice7-l.sig\" label=\"0\" n_features=2919 grp=13 seq=0 fs_col=0>\n",
      "LOADED  <FeatureVector \"T2_map_Resliced_Slice5-l.sig\" label=\"0\" n_features=2919 grp=13 seq=0 fs_col=1>\n",
      "LOADED  <FeatureVector \"T2_map_Resliced_Slice7-l.sig\" label=\"0\" n_features=2919 grp=7 seq=0 fs_col=0>\n",
      "LOADED  <FeatureVector \"T2_map_Resliced_Slice5-l.sig\" label=\"0\" n_features=2919 grp=7 seq=0 fs_col=1>\n",
      "LOADED  <FeatureVector \"T2_map_Resliced_Slice7-l.sig\" label=\"1\" n_features=2919 grp=14 seq=0 fs_col=0>\n",
      "LOADED  <FeatureVector \"T2_map_Resliced_Slice5-l.sig\" label=\"1\" n_features=2919 grp=14 seq=0 fs_col=1>\n",
      "LOADED  <FeatureVector \"T2_map_Resliced_Slice7-l.sig\" label=\"1\" n_features=2919 grp=15 seq=0 fs_col=0>\n",
      "LOADED  <FeatureVector \"T2_map_Resliced_Slice5-l.sig\" label=\"1\" n_features=2919 grp=15 seq=0 fs_col=1>\n",
      "LOADED  <FeatureVector \"T2_map_Resliced_Slice7-l.sig\" label=\"1\" n_features=2919 grp=16 seq=0 fs_col=0>\n",
      "LOADED  <FeatureVector \"T2_map_Resliced_Slice5-l.sig\" label=\"1\" n_features=2919 grp=16 seq=0 fs_col=1>\n",
      "LOADED  <FeatureVector \"T2_map_Resliced_Slice7-l.sig\" label=\"1\" n_features=2919 grp=17 seq=0 fs_col=0>\n",
      "LOADED  <FeatureVector \"T2_map_Resliced_Slice5-l.sig\" label=\"1\" n_features=2919 grp=17 seq=0 fs_col=1>\n",
      "LOADED  <FeatureVector \"T2_map_Resliced_Slice7-l.sig\" label=\"1\" n_features=2919 grp=18 seq=0 fs_col=0>\n",
      "LOADED  <FeatureVector \"T2_map_Resliced_Slice5-l.sig\" label=\"1\" n_features=2919 grp=18 seq=0 fs_col=1>\n",
      "LOADED  <FeatureVector \"T2_map_Resliced_Slice7-l.sig\" label=\"1\" n_features=2919 grp=19 seq=0 fs_col=0>\n",
      "LOADED  <FeatureVector \"T2_map_Resliced_Slice5-l.sig\" label=\"1\" n_features=2919 grp=19 seq=0 fs_col=1>\n",
      "LOADED  <FeatureVector \"T2_map_Resliced_Slice7-l.sig\" label=\"1\" n_features=2919 grp=20 seq=0 fs_col=0>\n",
      "LOADED  <FeatureVector \"T2_map_Resliced_Slice5-l.sig\" label=\"1\" n_features=2919 grp=20 seq=0 fs_col=1>\n",
      "LOADED  <FeatureVector \"T2_map_Resliced_Slice7-l.sig\" label=\"1\" n_features=2919 grp=21 seq=0 fs_col=0>\n",
      "LOADED  <FeatureVector \"T2_map_Resliced_Slice5-l.sig\" label=\"1\" n_features=2919 grp=21 seq=0 fs_col=1>\n",
      "LOADED  <FeatureVector \"T2_map_Resliced_Slice7-l.sig\" label=\"1\" n_features=2919 grp=22 seq=0 fs_col=0>\n",
      "LOADED  <FeatureVector \"T2_map_Resliced_Slice5-l.sig\" label=\"1\" n_features=2919 grp=22 seq=0 fs_col=1>\n",
      "LOADED  <FeatureVector \"T2_map_Resliced_Slice7-l.sig\" label=\"1\" n_features=2919 grp=23 seq=0 fs_col=0>\n",
      "LOADED  <FeatureVector \"T2_map_Resliced_Slice5-l.sig\" label=\"1\" n_features=2919 grp=23 seq=0 fs_col=1>\n",
      "LOADED  <FeatureVector \"T2_map_Resliced_Slice7-l.sig\" label=\"1\" n_features=2919 grp=24 seq=0 fs_col=0>\n",
      "LOADED  <FeatureVector \"T2_map_Resliced_Slice5-l.sig\" label=\"1\" n_features=2919 grp=24 seq=0 fs_col=1>\n",
      "LOADED  <FeatureVector \"T2_map_Resliced_Slice7-l.sig\" label=\"1\" n_features=2919 grp=25 seq=0 fs_col=0>\n",
      "LOADED  <FeatureVector \"T2_map_Resliced_Slice5-l.sig\" label=\"1\" n_features=2919 grp=25 seq=0 fs_col=1>\n",
      "LOADED  <FeatureVector \"T2_map_Resliced_Slice7-l.sig\" label=\"1\" n_features=2919 grp=26 seq=0 fs_col=0>\n",
      "LOADED  <FeatureVector \"T2_map_Resliced_Slice5-l.sig\" label=\"1\" n_features=2919 grp=26 seq=0 fs_col=1>\n",
      "LOADED  <FeatureVector \"T2_map_Resliced_Slice7-l.sig\" label=\"1\" n_features=2919 grp=27 seq=0 fs_col=0>\n",
      "LOADED  <FeatureVector \"T2_map_Resliced_Slice5-l.sig\" label=\"1\" n_features=2919 grp=27 seq=0 fs_col=1>\n",
      "LOADED  <FeatureVector \"T2_map_Resliced_Slice7-l.sig\" label=\"1\" n_features=2919 grp=28 seq=0 fs_col=0>\n",
      "LOADED  <FeatureVector \"T2_map_Resliced_Slice5-l.sig\" label=\"1\" n_features=2919 grp=28 seq=0 fs_col=1>\n",
      "NEW FEATURE SPACE FROM FILE LIST: <FeatureSpace \"master_fof\" n_features=5838 n_total_samples=29 n_samples_per_group=1 n_classes=2 samples_per_class=(\"0\": 14, \"1\": 15)>\n"
     ]
    }
   ],
   "source": [
    "import os\n",
    "\n",
    "from wndcharm.FeatureSpace import FeatureSpace\n",
    "f=FeatureSpace.NewFromFileOfFiles( os.path.expanduser('~/NIH_data/ipythOAI/master_fof.fof'), long=True )\n",
    "f.ToFitFile()"
   ]
  },
  {
   "cell_type": "code",
   "execution_count": 10,
   "metadata": {
    "collapsed": false
   },
   "outputs": [
    {
     "name": "stdout",
     "output_type": "stream",
     "text": [
      "[[  2.46300000e+03   5.44220000e-02   2.34303000e-01 ...,  -4.82183000e+04\n",
      "    1.35320000e+05   7.17610000e-01]\n",
      " [  2.46100000e+03   3.82510000e-02   4.73540000e-02 ...,  -5.96987000e+04\n",
      "    1.22602000e+05   7.17989000e-01]\n",
      " [  2.46300000e+03   2.86680000e-02   2.27273000e-01 ...,  -5.46901000e+04\n",
      "    1.32969000e+05   7.21117000e-01]\n",
      " ..., \n",
      " [  2.47100000e+03   9.96700000e-03   9.09090000e-02 ...,  -6.31722000e+04\n",
      "    1.30878000e+05   7.12536000e-01]\n",
      " [  2.46700000e+03   4.28820000e-02   2.16495000e-01 ...,  -6.16860000e+04\n",
      "    1.32515000e+05   7.14215000e-01]\n",
      " [  2.45000000e+03   1.28302000e-01   7.62710000e-02 ...,  -6.06450000e+04\n",
      "    1.25392000e+05   7.20067000e-01]]\n",
      "[array([[  2.46300000e+03,   5.44220000e-02,   2.34303000e-01, ...,\n",
      "         -4.82183000e+04,   1.35320000e+05,   7.17610000e-01],\n",
      "       [  2.46100000e+03,   3.82510000e-02,   4.73540000e-02, ...,\n",
      "         -5.96987000e+04,   1.22602000e+05,   7.17989000e-01],\n",
      "       [  2.46300000e+03,   2.86680000e-02,   2.27273000e-01, ...,\n",
      "         -5.46901000e+04,   1.32969000e+05,   7.21117000e-01],\n",
      "       ..., \n",
      "       [  2.46800000e+03,   9.02390000e-02,   1.97180000e-02, ...,\n",
      "         -6.10976000e+04,   1.26745000e+05,   7.17808000e-01],\n",
      "       [  2.45800000e+03,   8.97700000e-03,   5.34850000e-02, ...,\n",
      "         -5.96985000e+04,   1.32584000e+05,   7.12181000e-01],\n",
      "       [  2.46900000e+03,   2.23750000e-02,   1.06849000e-01, ...,\n",
      "         -6.39898000e+04,   1.29382000e+05,   7.18119000e-01]]), array([[  2.46700000e+03,   8.28920000e-02,   4.14750000e-02, ...,\n",
      "         -6.32006000e+04,   1.35005000e+05,   7.11495000e-01],\n",
      "       [  2.43800000e+03,   3.95870000e-02,   9.68800000e-02, ...,\n",
      "         -5.80425000e+04,   1.29494000e+05,   7.09641000e-01],\n",
      "       [  2.46100000e+03,   5.10400000e-02,   5.51820000e-02, ...,\n",
      "         -6.15779000e+04,   1.26309000e+05,   7.17618000e-01],\n",
      "       ..., \n",
      "       [  2.47100000e+03,   9.96700000e-03,   9.09090000e-02, ...,\n",
      "         -6.31722000e+04,   1.30878000e+05,   7.12536000e-01],\n",
      "       [  2.46700000e+03,   4.28820000e-02,   2.16495000e-01, ...,\n",
      "         -6.16860000e+04,   1.32515000e+05,   7.14215000e-01],\n",
      "       [  2.45000000e+03,   1.28302000e-01,   7.62710000e-02, ...,\n",
      "         -6.06450000e+04,   1.25392000e+05,   7.20067000e-01]])]\n",
      "['0', '0', '0', '0', '0', '0', '0', '0', '0', '0', '0', '0', '0', '0', '1', '1', '1', '1', '1', '1', '1', '1', '1', '1', '1', '1', '1', '1', '1']\n",
      "[0.0, 0.0, 0.0, 0.0, 0.0, 0.0, 0.0, 0.0, 0.0, 0.0, 0.0, 0.0, 0.0, 0.0, 1.0, 1.0, 1.0, 1.0, 1.0, 1.0, 1.0, 1.0, 1.0, 1.0, 1.0, 1.0, 1.0, 1.0, 1.0]\n"
     ]
    }
   ],
   "source": [
    "dmat = f.ContiguousDataMatrix()\n",
    "print (dmat)\n",
    "print (f.data_list)\n",
    "print (f._contiguous_ground_truth_labels)\n",
    "print (f._contiguous_ground_truth_values)"
   ]
  },
  {
   "cell_type": "code",
   "execution_count": 16,
   "metadata": {
    "collapsed": false
   },
   "outputs": [
    {
     "name": "stdout",
     "output_type": "stream",
     "text": [
      "['0', '1']\n"
     ]
    }
   ],
   "source": [
    "print (f.class_names)\n"
   ]
  },
  {
   "cell_type": "code",
   "execution_count": 1,
   "metadata": {
    "collapsed": false
   },
   "outputs": [],
   "source": [
    "import numpy as np\n",
    "import scipy as sp\n",
    "from scipy.stats import pearsonr\n",
    "from sklearn.lda import LDA"
   ]
  },
  {
   "cell_type": "code",
   "execution_count": null,
   "metadata": {
    "collapsed": true
   },
   "outputs": [],
   "source": [
    "def normalize (self, train, test):\n",
    "    self.train_set = train.copy() \n",
    "    mins, maxs = normalize_by_columns (self.train_set)\n",
    "    self.test_set = test.copy() \n",
    "    normalize_by_columns (self.test_set, mins, maxs)\n",
    "    return (self)\n",
    "\n",
    "def normalize_by_columns ( full_stack, mins = None, maxs = None ):\n",
    "    \"\"\"This is a global function to normalize a matrix by columns.\n",
    "    If numpy 1D arrays of mins and maxs are provided, the matrix will be normalized against these ranges\n",
    "    Otherwise, the mins and maxs will be determined from the matrix, and the matrix will be normalized\n",
    "    against itself. The mins and maxs will be returned as a tuple.\n",
    "    Out of range matrix values will be clipped to min and max (including +/- INF)\n",
    "    zero-range columns will be set to 0.\n",
    "    NANs in the columns will be set to 0.\n",
    "    The normalized output range is hard-coded to 0-100\n",
    "    \"\"\"\n",
    "    # Edge cases to deal with:\n",
    "    # Range determination:\n",
    "    # 1. features that are nan, inf, -inf\n",
    "    # max and min determination must ignore invalid numbers\n",
    "    # nan -> 0, inf -> max, -inf -> min\n",
    "    # Normalization:\n",
    "    # 2. feature values outside of range\n",
    "    # values clipped to range (-inf to min -> min, max to inf -> max) - leaves nan as nan\n",
    "    # 3. feature ranges that are 0 result in nan feature values\n",
    "    # 4. all nan feature values set to 0\n",
    "\n",
    "    # Turn off numpy warnings, since we're taking care of invalid values explicitly\n",
    "    oldsettings = np.seterr(all='ignore')\n",
    "    if (mins is None or maxs is None):\n",
    "        # mask out NANs and +/-INFs to compute min/max\n",
    "        full_stack_m = np.ma.masked_invalid (full_stack, copy=False)\n",
    "        maxs = full_stack_m.max (axis=0)\n",
    "        mins = full_stack_m.min (axis=0)\n",
    "\n",
    "    # clip the values to the min-max range (NANs are left, but +/- INFs are taken care of)\n",
    "    full_stack.clip (mins, maxs, full_stack)\n",
    "    # remake a mask to account for NANs and divide-by-zero from max == min\n",
    "    full_stack_m = np.ma.masked_invalid (full_stack, copy=False)\n",
    "\n",
    "    # Normalize\n",
    "    full_stack_m -= mins\n",
    "    full_stack_m /= (maxs - mins)\n",
    "    # Left over NANs and divide-by-zero from max == min become 0\n",
    "    # Note the deep copy to change the numpy parameter in-place.\n",
    "    full_stack[:] = full_stack_m.filled (0) * 100.0\n",
    "\n",
    "    # return settings to original\n",
    "    np.seterr(**oldsettings)\n",
    "\n",
    "    return (mins,maxs)\n",
    "\n"
   ]
  },
  {
   "cell_type": "code",
   "execution_count": null,
   "metadata": {
    "collapsed": true
   },
   "outputs": [],
   "source": [
    "def stand (train, test):\n",
    "    scaler = StandardScaler()\n",
    "    new_train_set = scaler.fit_transform(train)\n",
    "    new_test_set = scaler.transform(test)\n",
    "    return (new_train_set,new_test_set)\n"
   ]
  },
  {
   "cell_type": "code",
   "execution_count": null,
   "metadata": {
    "collapsed": true
   },
   "outputs": [],
   "source": []
  },
  {
   "cell_type": "code",
   "execution_count": 22,
   "metadata": {
    "collapsed": false
   },
   "outputs": [
    {
     "name": "stdout",
     "output_type": "stream",
     "text": [
      "(29, 5838)\n",
      "[14, 15]\n",
      "14\n",
      "[0, 0, 0]\n"
     ]
    }
   ],
   "source": [
    "print dmat.shape\n",
    "lengths = [m.shape[0] for m in f.data_list]\n",
    "print lengths\n",
    "print (min(lengths))\n",
    "print ([0]*3)"
   ]
  },
  {
   "cell_type": "code",
   "execution_count": 38,
   "metadata": {
    "collapsed": false
   },
   "outputs": [
    {
     "name": "stdout",
     "output_type": "stream",
     "text": [
      "[[[0 0 0 0 0]\n",
      "  [1 1 1 1 1]\n",
      "  [2 2 2 2 2]\n",
      "  [3 3 3 3 3]\n",
      "  [4 4 4 4 4]\n",
      "  [5 5 5 5 5]\n",
      "  [6 6 6 6 6]\n",
      "  [7 7 7 7 7]]\n",
      "\n",
      " [[0 1 2 3 4]\n",
      "  [0 1 2 3 4]\n",
      "  [0 1 2 3 4]\n",
      "  [0 1 2 3 4]\n",
      "  [0 1 2 3 4]\n",
      "  [0 1 2 3 4]\n",
      "  [0 1 2 3 4]\n",
      "  [0 1 2 3 4]]]\n",
      "('indexes: ', [2, 3])\n",
      "('class: 0, mat: ', array([[3, 3, 3, 3, 3],\n",
      "       [4, 4, 4, 4, 4],\n",
      "       [5, 5, 5, 5, 5],\n",
      "       [6, 6, 6, 6, 6],\n",
      "       [7, 7, 7, 7, 7],\n",
      "       [0, 0, 0, 0, 0],\n",
      "       [1, 1, 1, 1, 1]]))\n",
      "('class: 1, mat: ', array([[0, 1, 2, 3, 4],\n",
      "       [0, 1, 2, 3, 4],\n",
      "       [0, 1, 2, 3, 4],\n",
      "       [0, 1, 2, 3, 4],\n",
      "       [0, 1, 2, 3, 4],\n",
      "       [0, 1, 2, 3, 4],\n",
      "       [0, 1, 2, 3, 4]]))\n"
     ]
    }
   ],
   "source": [
    "def round_robin_iteration (index, data_matrix_list):\n",
    "    '''Does a leave N out, where N is the number of classes.\n",
    "    The class with the smallest number of samples -1 (nsamples - 1) determines training set size.\n",
    "    Picks nsamples-1 for training and testing from a circular list starting at index.\n",
    "    Index ranges from 0 to the product of number of samples in each class.\n",
    "    data_matrix_list is a list of data matrixes, with one matrix per class'''\n",
    "    lengths = [m.shape[0] for m in data_matrix_list]\n",
    "    nclasses = len(lengths)\n",
    "    max_samples = min (lengths) - 1\n",
    "    indexes = [0] * nclasses\n",
    "    cl_index = index\n",
    "    for i in range (nclasses-1,0,-1):\n",
    "        indexes[i] = cl_index / lengths[i]\n",
    "        cl_index -= (indexes[i] * lengths[i])\n",
    "    indexes[0] = cl_index\n",
    "    indexes = list(reversed(indexes))\n",
    "    \n",
    "    train_mats = []\n",
    "    print ('indexes: ',indexes)\n",
    "    for class_num in range(nclasses):\n",
    "        class_indexes = [ (count+indexes[class_num]+1) % lengths[class_num] for count in range (max_samples) ]\n",
    "        train_mats.append (np.take (data_matrix_list[class_num], class_indexes, axis=0) )\n",
    "        print ('class: {}, mat: '.format(class_num),train_mats[class_num])\n",
    "\n",
    "dat_mat = np.mgrid[0:8,0:5]\n",
    "print (mat)\n",
    "round_robin_iteration (19,dat_mat)"
   ]
  },
  {
   "cell_type": "code",
   "execution_count": null,
   "metadata": {
    "collapsed": true
   },
   "outputs": [],
   "source": []
  }
 ],
 "metadata": {
  "kernelspec": {
   "display_name": "Python 2",
   "language": "python",
   "name": "python2"
  },
  "language_info": {
   "codemirror_mode": {
    "name": "ipython",
    "version": 2
   },
   "file_extension": ".py",
   "mimetype": "text/x-python",
   "name": "python",
   "nbconvert_exporter": "python",
   "pygments_lexer": "ipython2",
   "version": "2.7.9"
  }
 },
 "nbformat": 4,
 "nbformat_minor": 0
}
